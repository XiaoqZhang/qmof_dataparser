{
 "cells": [
  {
   "cell_type": "code",
   "execution_count": 1,
   "metadata": {},
   "outputs": [],
   "source": [
    "import os\n",
    "import json\n",
    "import pandas as pd\n",
    "import numpy as np"
   ]
  },
  {
   "cell_type": "code",
   "execution_count": 2,
   "metadata": {},
   "outputs": [],
   "source": [
    "with open(\"../files/qmof_reference.json\") as f:\n",
    "    data = json.load(f)"
   ]
  },
  {
   "cell_type": "code",
   "execution_count": 12,
   "metadata": {},
   "outputs": [
    {
     "data": {
      "text/plain": [
       "68"
      ]
     },
     "execution_count": 12,
     "metadata": {},
     "output_type": "execute_result"
    }
   ],
   "source": [
    "len(data) - 20357"
   ]
  },
  {
   "cell_type": "code",
   "execution_count": 14,
   "metadata": {},
   "outputs": [],
   "source": [
    "data_clean = {q:data[q] for q in data if 'qmof' in q}"
   ]
  },
  {
   "cell_type": "code",
   "execution_count": 16,
   "metadata": {},
   "outputs": [
    {
     "data": {
      "text/plain": [
       "20375"
      ]
     },
     "execution_count": 16,
     "metadata": {},
     "output_type": "execute_result"
    }
   ],
   "source": [
    "len(data_clean)"
   ]
  },
  {
   "cell_type": "code",
   "execution_count": 18,
   "metadata": {},
   "outputs": [],
   "source": [
    "out_obj = json.dumps(data_clean, indent=4)\n",
    "with open(\"../files/qmof_refer_clean.json\", \"w\") as file:\n",
    "    file.write(out_obj)"
   ]
  },
  {
   "cell_type": "code",
   "execution_count": 9,
   "metadata": {},
   "outputs": [
    {
     "name": "stdout",
     "output_type": "stream",
     "text": [
      "PIXQUK_FSR\n",
      "PODXEN_FSR\n",
      "AGIJAD_FSR\n",
      "ISOJOQ_FSR\n",
      "QAMKOH_FSR\n",
      "QIVLUE_FSR\n",
      "BUBJUF_FSR\n",
      "XIVTED_FSR\n",
      "BEPYIG_FSR\n",
      "MIXYEZ_FSR\n",
      "NUVXOT_FSR\n",
      "WAQTAM_FSR\n",
      "ODOXEK_FSR\n",
      "VAHJIA_FSR\n",
      "GARMAQ_FSR\n",
      "DEBWEO_FSR\n",
      "DOJXIL_FSR\n",
      "KEVCEV_FSR\n",
      "LIWFAA_FSR\n",
      "core_ROYJUM_freeONLY\n",
      "core_ATOWIQ_freeONLY\n",
      "core_MIHLOF_freeONLY\n",
      "core_CUWROC_freeONLY\n",
      "core_DAXHUH01_freeONLY\n",
      "SERKOQ_FSR\n",
      "core_QOXNIB_freeONLY\n",
      "core_HAKSEU_freeONLY\n",
      "core_ITIPOS_freeONLY\n",
      "core_HEGPAL_freeONLY\n",
      "core_DELGEI_manual\n",
      "core_EXEQIJ_freeONLY\n",
      "core_HAFTOZ_freeONLY\n",
      "FENHIS_FSR\n",
      "FAFBUL_FSR\n",
      "core_GOZNEQ_freeONLY\n",
      "core_QIRWAR_freeONLY\n",
      "core_TAQGEZ_freeONLY\n",
      "core_HOVQAM_freeONLY\n",
      "core_NOWGIR_freeONLY\n",
      "core_ZARTAP03_freeONLY\n",
      "core_EQERIC_freeONLY\n",
      "RIDGIW_FSR\n",
      "core_DACFAR_freeONLY\n",
      "core_OWEYOF_freeONLY\n",
      "core_JAVWUY_freeONLY\n",
      "core_DOKHIV_freeONLY\n",
      "core_ELELEN_freeONLY\n",
      "core_EQEREY_freeONLY\n",
      "core_IYOQAQ_freeONLY\n",
      "core_KEYROX_freeONLY\n"
     ]
    }
   ],
   "source": [
    "count = 0\n",
    "for q in data.keys():\n",
    "    if 'qmof' not in q:\n",
    "        count += 1 \n",
    "        print(q)\n"
   ]
  },
  {
   "cell_type": "code",
   "execution_count": 10,
   "metadata": {},
   "outputs": [
    {
     "data": {
      "text/plain": [
       "50"
      ]
     },
     "execution_count": 10,
     "metadata": {},
     "output_type": "execute_result"
    }
   ],
   "source": [
    "count"
   ]
  },
  {
   "cell_type": "code",
   "execution_count": null,
   "metadata": {},
   "outputs": [],
   "source": []
  }
 ],
 "metadata": {
  "kernelspec": {
   "display_name": "Python 3.8.12 ('ml')",
   "language": "python",
   "name": "python3"
  },
  "language_info": {
   "codemirror_mode": {
    "name": "ipython",
    "version": 3
   },
   "file_extension": ".py",
   "mimetype": "text/x-python",
   "name": "python",
   "nbconvert_exporter": "python",
   "pygments_lexer": "ipython3",
   "version": "3.8.12"
  },
  "orig_nbformat": 4,
  "vscode": {
   "interpreter": {
    "hash": "8a1315b02a235bf79c68e093ca5453b5ada46ae87871d36c79602fa05a1f3eef"
   }
  }
 },
 "nbformat": 4,
 "nbformat_minor": 2
}
