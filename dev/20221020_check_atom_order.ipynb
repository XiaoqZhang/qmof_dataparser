{
 "cells": [
  {
   "cell_type": "code",
   "execution_count": 1,
   "metadata": {},
   "outputs": [],
   "source": [
    "import os\n",
    "import numpy as np\n",
    "import pandas as pd\n",
    "\n",
    "from pymatgen.core import Structure"
   ]
  },
  {
   "cell_type": "code",
   "execution_count": 3,
   "metadata": {},
   "outputs": [],
   "source": [
    "names = [\"GORGOL_FSR\", \"UNISEQ01_FSR\"]\n",
    "qmof_ids = [\"qmof-81035b4\", \"qmof-fc0e787\"]"
   ]
  },
  {
   "cell_type": "code",
   "execution_count": 4,
   "metadata": {},
   "outputs": [],
   "source": [
    "cif1 = Structure.from_file(os.path.join(\"../files/EIDyjluDQ3eZnt-gI7Fc4Q/vasp_files/\", names[0], qmof_ids[0]+\".cif\"))"
   ]
  },
  {
   "cell_type": "code",
   "execution_count": 6,
   "metadata": {},
   "outputs": [
    {
     "data": {
      "text/plain": [
       "[PeriodicSite: Cd (2.0511, 7.4618, 6.9916) [0.2071, 0.8738, 0.4587],\n",
       " PeriodicSite: Cd (6.1464, 1.0775, 7.5008) [0.7929, 0.1262, 0.5413],\n",
       " PeriodicSite: H (5.9152, 8.2016, 12.4398) [0.7051, 0.9604, 0.8700],\n",
       " PeriodicSite: H (2.2822, 0.3377, 2.0527) [0.2949, 0.0395, 0.1300],\n",
       " PeriodicSite: H (6.7118, 1.8979, 3.6047) [0.8600, 0.2223, 0.1205],\n",
       " PeriodicSite: H (1.4857, 6.6414, 10.8877) [0.1400, 0.7777, 0.8795],\n",
       " PeriodicSite: H (7.7590, 3.5231, 12.1539) [0.9834, 0.4126, 0.8984],\n",
       " PeriodicSite: H (0.4386, 5.0162, 2.3385) [0.0166, 0.5874, 0.1016],\n",
       " PeriodicSite: H (4.2273, 6.6585, 9.3855) [0.4974, 0.7797, 0.6522],\n",
       " PeriodicSite: H (3.9702, 1.8809, 5.1069) [0.5026, 0.2203, 0.3478],\n",
       " PeriodicSite: H (2.0623, 2.2902, 8.8817) [0.2504, 0.2682, 0.7663],\n",
       " PeriodicSite: H (6.1353, 6.2492, 5.6108) [0.7496, 0.7318, 0.2337],\n",
       " PeriodicSite: H (4.9960, 4.7925, 10.8320) [0.6128, 0.5612, 0.8169],\n",
       " PeriodicSite: H (3.2015, 3.7469, 3.6605) [0.3872, 0.4388, 0.1831],\n",
       " PeriodicSite: H (5.9729, 8.4741, 4.8092) [0.7104, 0.9924, 0.1071],\n",
       " PeriodicSite: H (2.2246, 0.0652, 9.6832) [0.2896, 0.0076, 0.8929],\n",
       " PeriodicSite: H (3.8839, 2.5298, 10.5666) [0.4861, 0.2962, 0.8753],\n",
       " PeriodicSite: H (4.3136, 6.0096, 3.9259) [0.5139, 0.7038, 0.1247],\n",
       " PeriodicSite: C (5.9266, 0.4887, 10.7285) [0.7690, 0.0572, 0.8806],\n",
       " PeriodicSite: C (2.2709, 8.0506, 3.7639) [0.2310, 0.9428, 0.1194],\n",
       " PeriodicSite: C (7.6733, 3.3754, 9.3657) [0.9734, 0.3953, 0.6284],\n",
       " PeriodicSite: C (0.5242, 5.1640, 5.1267) [0.0266, 0.6047, 0.3716],\n",
       " PeriodicSite: C (6.6520, 1.7366, 2.5302) [0.8535, 0.2034, 0.0196],\n",
       " PeriodicSite: C (1.5455, 6.8027, 11.9622) [0.1465, 0.7966, 0.9804],\n",
       " PeriodicSite: C (7.2633, 2.6372, 11.7673) [0.9259, 0.3088, 0.8950],\n",
       " PeriodicSite: C (0.9342, 5.9021, 2.7251) [0.0741, 0.6912, 0.1050],\n",
       " PeriodicSite: C (2.1450, 4.3582, 8.2878) [0.2445, 0.5104, 0.6568],\n",
       " PeriodicSite: C (6.0525, 4.1811, 6.2046) [0.7555, 0.4896, 0.3432],\n",
       " PeriodicSite: C (1.1027, 4.2723, 7.2284) [0.1092, 0.5003, 0.5838],\n",
       " PeriodicSite: C (7.0949, 4.2670, 7.2640) [0.8908, 0.4997, 0.4162],\n",
       " PeriodicSite: C (3.7520, 5.6807, 9.3137) [0.4434, 0.6652, 0.6815],\n",
       " PeriodicSite: C (4.4455, 2.8586, 5.1787) [0.5566, 0.3348, 0.3185],\n",
       " PeriodicSite: C (2.5447, 3.2500, 9.0405) [0.3056, 0.3806, 0.7458],\n",
       " PeriodicSite: C (5.6527, 5.2894, 5.4520) [0.6944, 0.6194, 0.2542],\n",
       " PeriodicSite: C (7.1813, 2.4104, 10.3883) [0.9171, 0.2823, 0.7662],\n",
       " PeriodicSite: C (1.0162, 6.1289, 4.1042) [0.0829, 0.7177, 0.2338],\n",
       " PeriodicSite: C (4.1857, 4.6272, 10.1208) [0.5085, 0.5419, 0.7736],\n",
       " PeriodicSite: C (4.0118, 3.9122, 4.3717) [0.4915, 0.4581, 0.2264],\n",
       " PeriodicSite: C (5.9686, 0.6430, 2.0047) [0.7732, 0.0753, 0.0127],\n",
       " PeriodicSite: C (2.2289, 7.8963, 12.4877) [0.2268, 0.9247, 0.9873],\n",
       " PeriodicSite: C (3.5689, 3.3877, 9.9744) [0.4380, 0.3967, 0.8057],\n",
       " PeriodicSite: C (4.6286, 5.1517, 4.5180) [0.5620, 0.6033, 0.1943],\n",
       " PeriodicSite: N (2.7559, 5.5602, 8.4227) [0.3144, 0.6511, 0.6246],\n",
       " PeriodicSite: N (5.4416, 2.9791, 6.0697) [0.6856, 0.3489, 0.3754],\n",
       " PeriodicSite: N (1.2932, 5.1310, 6.2209) [0.1271, 0.6009, 0.4586],\n",
       " PeriodicSite: N (6.9043, 3.4083, 8.2716) [0.8729, 0.3991, 0.5414],\n",
       " PeriodicSite: N (6.5152, 1.3478, 9.8891) [0.8388, 0.1578, 0.7607],\n",
       " PeriodicSite: N (1.6823, 7.1915, 4.6034) [0.1612, 0.8422, 0.2393],\n",
       " PeriodicSite: N (4.1355, 8.0624, 6.2959) [0.4741, 0.9441, 0.3163],\n",
       " PeriodicSite: N (4.0620, 0.4770, 8.1966) [0.5259, 0.0559, 0.6837],\n",
       " PeriodicSite: N (5.1097, 8.0980, 6.9868) [0.6009, 0.9483, 0.3560],\n",
       " PeriodicSite: N (3.0877, 0.4413, 7.5056) [0.3991, 0.0517, 0.6440],\n",
       " PeriodicSite: N (6.9370, 5.8069, 11.8027) [0.8577, 0.6800, 0.8338],\n",
       " PeriodicSite: N (1.2605, 2.7324, 2.6898) [0.1423, 0.3200, 0.1662],\n",
       " PeriodicSite: N (7.6054, 7.3810, 10.1582) [0.9322, 0.8644, 0.6152],\n",
       " PeriodicSite: N (0.5920, 1.1583, 4.3343) [0.0678, 0.1356, 0.3848],\n",
       " PeriodicSite: N (7.2737, 6.5851, 10.9909) [0.8953, 0.7712, 0.7256],\n",
       " PeriodicSite: N (0.9239, 1.9543, 3.5014) [0.1047, 0.2289, 0.2743],\n",
       " PeriodicSite: N (6.1207, 8.1375, 7.5908) [0.7324, 0.9529, 0.3859],\n",
       " PeriodicSite: N (2.0768, 0.4018, 6.9016) [0.2676, 0.0471, 0.6141]]"
      ]
     },
     "execution_count": 6,
     "metadata": {},
     "output_type": "execute_result"
    }
   ],
   "source": [
    "cif1.sites"
   ]
  },
  {
   "cell_type": "code",
   "execution_count": 7,
   "metadata": {},
   "outputs": [],
   "source": [
    "cif2 = Structure.from_file(os.path.join(\"../files/EIDyjluDQ3eZnt-gI7Fc4Q/vasp_files/\", names[1], qmof_ids[1]+\".cif\"))"
   ]
  },
  {
   "cell_type": "code",
   "execution_count": 8,
   "metadata": {},
   "outputs": [
    {
     "data": {
      "text/plain": [
       "[PeriodicSite: Li (4.1974, 0.8496, 2.2397) [0.8386, 0.1301, 0.2626],\n",
       " PeriodicSite: Li (1.6952, 5.6793, 1.5199) [0.3386, 0.8699, 0.2374],\n",
       " PeriodicSite: Li (0.8078, 5.6793, 5.9499) [0.1613, 0.8699, 0.7374],\n",
       " PeriodicSite: Li (3.3109, 0.8496, 6.6697) [0.6615, 0.1301, 0.7626],\n",
       " PeriodicSite: H (3.2933, 2.0038, 0.1848) [0.6579, 0.3069, 0.0441],\n",
       " PeriodicSite: H (0.7897, 4.5251, 3.5746) [0.1577, 0.6931, 0.4559],\n",
       " PeriodicSite: H (1.7134, 4.5252, 8.0047) [0.3423, 0.6931, 0.9559],\n",
       " PeriodicSite: H (4.2151, 2.0038, 4.6149) [0.8421, 0.3069, 0.5441],\n",
       " PeriodicSite: H (0.9290, 2.9618, 0.8526) [0.1856, 0.4537, 0.1306],\n",
       " PeriodicSite: H (3.4320, 3.5669, 2.9076) [0.6856, 0.5463, 0.3695],\n",
       " PeriodicSite: H (4.0764, 3.5668, 7.3377) [0.8144, 0.5463, 0.8695],\n",
       " PeriodicSite: H (1.5737, 2.9617, 5.2827) [0.3144, 0.4536, 0.6306],\n",
       " PeriodicSite: C (0.8464, 1.5934, 8.0475) [0.1691, 0.2441, 0.9268],\n",
       " PeriodicSite: C (3.3498, 4.9350, 4.5718) [0.6692, 0.7559, 0.5732],\n",
       " PeriodicSite: C (4.1589, 4.9351, 0.1417) [0.8309, 0.7559, 0.0732],\n",
       " PeriodicSite: C (1.6562, 1.5934, 3.6176) [0.3309, 0.2441, 0.4268],\n",
       " PeriodicSite: C (0.1931, 2.6480, 0.0966) [0.0385, 0.4056, 0.0416],\n",
       " PeriodicSite: C (2.6954, 3.8807, 3.6627) [0.5385, 0.5944, 0.4584],\n",
       " PeriodicSite: C (4.8128, 3.8808, 8.0927) [0.9615, 0.5944, 0.9584],\n",
       " PeriodicSite: C (2.3098, 2.6482, 4.5269) [0.4614, 0.4056, 0.5416],\n",
       " PeriodicSite: O (4.0705, 2.1546, 0.8062) [0.8132, 0.3300, 0.1160],\n",
       " PeriodicSite: O (1.5674, 4.3738, 2.9536) [0.3131, 0.6699, 0.3840],\n",
       " PeriodicSite: O (0.9356, 4.3740, 7.3836) [0.1869, 0.6700, 0.8841],\n",
       " PeriodicSite: O (3.4377, 2.1547, 5.2363) [0.6868, 0.3300, 0.6160],\n",
       " PeriodicSite: O (0.0963, 0.8342, 7.3585) [0.0192, 0.1278, 0.8402],\n",
       " PeriodicSite: O (2.5989, 5.6937, 5.2604) [0.5192, 0.8721, 0.6597],\n",
       " PeriodicSite: O (4.9095, 5.6938, 0.8308) [0.9808, 0.8721, 0.1598],\n",
       " PeriodicSite: O (2.4064, 0.8344, 2.9288) [0.4808, 0.1278, 0.3402],\n",
       " PeriodicSite: O (2.1150, 1.5469, 8.0060) [0.4225, 0.2369, 0.9215],\n",
       " PeriodicSite: O (4.6188, 4.9823, 4.6142) [0.9227, 0.7631, 0.5785],\n",
       " PeriodicSite: O (2.8898, 4.9822, 0.1840) [0.5773, 0.7631, 0.0785],\n",
       " PeriodicSite: O (0.3875, 1.5468, 3.5759) [0.0774, 0.2369, 0.4215]]"
      ]
     },
     "execution_count": 8,
     "metadata": {},
     "output_type": "execute_result"
    }
   ],
   "source": [
    "cif2.sites"
   ]
  },
  {
   "cell_type": "markdown",
   "metadata": {},
   "source": [
    "<font color=purple> By comparing the atom orders of pymatgen.Structure.sites and CONTCAR(fractional coordinates)/POSCAR(Cartesian coordinates), they are in the same order. "
   ]
  },
  {
   "cell_type": "code",
   "execution_count": null,
   "metadata": {},
   "outputs": [],
   "source": []
  }
 ],
 "metadata": {
  "kernelspec": {
   "display_name": "Python 3.8.12 ('ml')",
   "language": "python",
   "name": "python3"
  },
  "language_info": {
   "codemirror_mode": {
    "name": "ipython",
    "version": 3
   },
   "file_extension": ".py",
   "mimetype": "text/x-python",
   "name": "python",
   "nbconvert_exporter": "python",
   "pygments_lexer": "ipython3",
   "version": "3.8.12"
  },
  "orig_nbformat": 4,
  "vscode": {
   "interpreter": {
    "hash": "8a1315b02a235bf79c68e093ca5453b5ada46ae87871d36c79602fa05a1f3eef"
   }
  }
 },
 "nbformat": 4,
 "nbformat_minor": 2
}
