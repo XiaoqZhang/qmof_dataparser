{
 "cells": [
  {
   "cell_type": "code",
   "execution_count": 1,
   "metadata": {},
   "outputs": [],
   "source": [
    "import json\n",
    "import numpy as np\n",
    "import pandas as pd\n",
    "import os\n",
    "\n",
    "import matplotlib.pyplot as plt"
   ]
  },
  {
   "cell_type": "code",
   "execution_count": 2,
   "metadata": {},
   "outputs": [],
   "source": [
    "s = \"UDUNIS_FSR\""
   ]
  },
  {
   "cell_type": "code",
   "execution_count": 2,
   "metadata": {},
   "outputs": [],
   "source": [
    "with open(\"../qmof.json\") as file:\n",
    "    qmof_data = pd.read_json(\"../qmof.json\")"
   ]
  },
  {
   "cell_type": "code",
   "execution_count": 6,
   "metadata": {},
   "outputs": [
    {
     "data": {
      "text/plain": [
       "'qmof-81035b4'"
      ]
     },
     "execution_count": 6,
     "metadata": {},
     "output_type": "execute_result"
    }
   ],
   "source": [
    "qmof_data[qmof_data[\"name\"] == \"GORGOL_FSR\"][\"qmof_id\"].item()"
   ]
  },
  {
   "cell_type": "code",
   "execution_count": 8,
   "metadata": {},
   "outputs": [
    {
     "name": "stdout",
     "output_type": "stream",
     "text": [
      "True\n"
     ]
    }
   ],
   "source": [
    "if len(qmof_data[qmof_data[\"name\"] == \"core_ROYJUM_freeONLY\"][\"qmof_id\"]) == 0:\n",
    "    print(\"True\")"
   ]
  },
  {
   "cell_type": "code",
   "execution_count": 3,
   "metadata": {},
   "outputs": [],
   "source": [
    "dos_path = os.path.join(\"EIDyjluDQ3eZnt-gI7Fc4Q/vasp_files/\", s, \"PROCAR\")"
   ]
  },
  {
   "cell_type": "code",
   "execution_count": 4,
   "metadata": {},
   "outputs": [],
   "source": [
    "with open(dos_path) as file:\n",
    "    lines = file.readlines()\n",
    "    k_ids = [lines.index(line) for line in lines if \"k-point\" in line]\n",
    "    k_ids.pop(0)\n",
    "    band_ids = [lines.index(line) for line in lines if \"energy\" in line]\n",
    "    ion_num = int(lines[1].split()[-1])\n"
   ]
  },
  {
   "cell_type": "code",
   "execution_count": 24,
   "metadata": {},
   "outputs": [],
   "source": [
    "def min_max(arr):\n",
    "    return (arr-np.min(arr))/(np.max(arr)-np.min(arr))"
   ]
  },
  {
   "cell_type": "code",
   "execution_count": 39,
   "metadata": {},
   "outputs": [],
   "source": [
    "site_atts = []\n",
    "for id in band_ids:\n",
    "    tot = float(lines[id+ion_num+3].split()[-1])\n",
    "    site_att = [float(line.split()[-1])/tot for line in lines[id+3:id+ion_num+3]]\n",
    "    site_atts.append(site_att)"
   ]
  },
  {
   "cell_type": "code",
   "execution_count": 40,
   "metadata": {},
   "outputs": [],
   "source": [
    "ion_weight = min_max(np.mean(site_atts, axis=0))"
   ]
  },
  {
   "cell_type": "code",
   "execution_count": null,
   "metadata": {},
   "outputs": [],
   "source": []
  }
 ],
 "metadata": {
  "kernelspec": {
   "display_name": "Python 3.8.12 ('ml')",
   "language": "python",
   "name": "python3"
  },
  "language_info": {
   "codemirror_mode": {
    "name": "ipython",
    "version": 3
   },
   "file_extension": ".py",
   "mimetype": "text/x-python",
   "name": "python",
   "nbconvert_exporter": "python",
   "pygments_lexer": "ipython3",
   "version": "3.8.12"
  },
  "orig_nbformat": 4,
  "vscode": {
   "interpreter": {
    "hash": "8a1315b02a235bf79c68e093ca5453b5ada46ae87871d36c79602fa05a1f3eef"
   }
  }
 },
 "nbformat": 4,
 "nbformat_minor": 2
}
