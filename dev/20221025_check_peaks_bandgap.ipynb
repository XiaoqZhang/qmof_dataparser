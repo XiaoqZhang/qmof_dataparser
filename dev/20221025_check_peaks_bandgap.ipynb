{
 "cells": [
  {
   "cell_type": "code",
   "execution_count": 1,
   "metadata": {},
   "outputs": [],
   "source": [
    "import json\n",
    "import numpy as np\n",
    "import pandas as pd\n",
    "import os\n",
    "\n",
    "import matplotlib.pyplot as plt\n",
    "plt.rcParams[\"font.size\"] = 18"
   ]
  },
  {
   "cell_type": "code",
   "execution_count": 192,
   "metadata": {},
   "outputs": [],
   "source": [
    "s = \"UNISEQ01_FSR\""
   ]
  },
  {
   "cell_type": "code",
   "execution_count": 2,
   "metadata": {},
   "outputs": [],
   "source": [
    "with open(\"../qmof.json\") as file:\n",
    "    qmof_data = json.load(file)\n",
    "    qmof_df = pd.json_normalize(qmof_data).set_index(\"qmof_id\")\n"
   ]
  },
  {
   "cell_type": "code",
   "execution_count": 3,
   "metadata": {},
   "outputs": [
    {
     "data": {
      "text/plain": [
       "20375"
      ]
     },
     "execution_count": 3,
     "metadata": {},
     "output_type": "execute_result"
    }
   ],
   "source": [
    "len(qmof_df)"
   ]
  },
  {
   "cell_type": "code",
   "execution_count": 194,
   "metadata": {},
   "outputs": [
    {
     "data": {
      "text/plain": [
       "'qmof-fc0e787'"
      ]
     },
     "execution_count": 194,
     "metadata": {},
     "output_type": "execute_result"
    }
   ],
   "source": [
    "qmof_id = qmof_df[qmof_df[\"name\"] == s].index.item()\n",
    "qmof_id"
   ]
  },
  {
   "cell_type": "code",
   "execution_count": 195,
   "metadata": {},
   "outputs": [],
   "source": [
    "bandgap = qmof_df[qmof_df[\"name\"]==s][\"outputs.pbe.bandgap\"].item()\n",
    "vbm = qmof_df[qmof_df[\"name\"]==s][\"outputs.pbe.vbm\"].item()\n",
    "cbm = qmof_df[qmof_df[\"name\"]==s][\"outputs.pbe.cbm\"].item()"
   ]
  },
  {
   "cell_type": "code",
   "execution_count": 196,
   "metadata": {},
   "outputs": [
    {
     "name": "stdout",
     "output_type": "stream",
     "text": [
      "3.899547\n",
      "0.044928\n",
      "3.944475\n",
      "3.899547\n"
     ]
    }
   ],
   "source": [
    "print(bandgap)\n",
    "print(vbm)\n",
    "print(cbm)\n",
    "print(cbm-vbm)"
   ]
  },
  {
   "cell_type": "code",
   "execution_count": 197,
   "metadata": {},
   "outputs": [],
   "source": [
    "dos_path = os.path.join(\"../files/EIDyjluDQ3eZnt-gI7Fc4Q/vasp_files/\", s, \"DOSCAR\")"
   ]
  },
  {
   "cell_type": "code",
   "execution_count": 198,
   "metadata": {},
   "outputs": [],
   "source": [
    "with open(dos_path) as file:\n",
    "    lines = file.readlines()\n",
    "    nions = int(lines[0].split()[1])\n",
    "    e_info = [float(i) for i in lines[5].split()]\n",
    "    e_min, e_max, nedos, efermi = e_info[0], e_info[1], int(e_info[2]), e_info[3]\n",
    "\n",
    "    dos_data = np.array([[float(x) for x in l.split()] for l in lines[6:6+nedos]])"
   ]
  },
  {
   "cell_type": "code",
   "execution_count": 199,
   "metadata": {},
   "outputs": [
    {
     "data": {
      "text/plain": [
       "0.13079144"
      ]
     },
     "execution_count": 199,
     "metadata": {},
     "output_type": "execute_result"
    }
   ],
   "source": [
    "efermi"
   ]
  },
  {
   "cell_type": "code",
   "execution_count": 200,
   "metadata": {},
   "outputs": [],
   "source": [
    "energies = dos_data[:,0]"
   ]
  },
  {
   "cell_type": "code",
   "execution_count": 220,
   "metadata": {},
   "outputs": [
    {
     "data": {
      "text/plain": [
       "Text(0.5, 1.0, 'qmof-fc0e787')"
      ]
     },
     "execution_count": 220,
     "metadata": {},
     "output_type": "execute_result"
    },
    {
     "data": {
      "image/png": "[encoded data removed]",
      "text/plain": [
       "<Figure size 720x432 with 1 Axes>"
      ]
     },
     "metadata": {
      "needs_background": "light"
     },
     "output_type": "display_data"
    }
   ],
   "source": [
    "fig, ax = plt.subplots()\n",
    "fig.set_size_inches(10, 6)\n",
    "ax.plot(energies[(energies>efermi-1) & (energies<efermi+7)]-efermi, dos_data[:, 1][(energies>efermi-1) & (energies<efermi+7)])\n",
    "ax.plot([0,0], [0,25], 'r--')\n",
    "ax.plot([bandgap, bandgap], [0,25], 'r--')\n",
    "ax.set_xlabel(\"$E-E_{Fermi}\\ /\\ eV$\")\n",
    "ax.set_ylabel(\"Density of states\")\n",
    "ax.set_title(\"%s\" %qmof_id)\n"
   ]
  },
  {
   "cell_type": "code",
   "execution_count": 210,
   "metadata": {},
   "outputs": [],
   "source": [
    "bandgap_data = dos_data[(dos_data[:,0] > efermi) & (dos_data[:,0]<efermi+bandgap)][:-1]\n",
    "#bandgap_data = bandgap_data[:-1]"
   ]
  },
  {
   "cell_type": "code",
   "execution_count": 221,
   "metadata": {},
   "outputs": [
    {
     "data": {
      "text/plain": [
       "0"
      ]
     },
     "execution_count": 221,
     "metadata": {},
     "output_type": "execute_result"
    }
   ],
   "source": [
    "sum(bandgap_data[:,1]>0)"
   ]
  },
  {
   "cell_type": "code",
   "execution_count": 211,
   "metadata": {},
   "outputs": [
    {
     "data": {
      "text/plain": [
       "array([[  0.218,   0.   , 116.   ],\n",
       "       [  0.335,   0.   , 116.   ],\n",
       "       [  0.451,   0.   , 116.   ],\n",
       "       [  0.567,   0.   , 116.   ],\n",
       "       [  0.684,   0.   , 116.   ],\n",
       "       [  0.8  ,   0.   , 116.   ],\n",
       "       [  0.917,   0.   , 116.   ],\n",
       "       [  1.033,   0.   , 116.   ],\n",
       "       [  1.149,   0.   , 116.   ],\n",
       "       [  1.266,   0.   , 116.   ],\n",
       "       [  1.382,   0.   , 116.   ],\n",
       "       [  1.499,   0.   , 116.   ],\n",
       "       [  1.615,   0.   , 116.   ],\n",
       "       [  1.731,   0.   , 116.   ],\n",
       "       [  1.848,   0.   , 116.   ],\n",
       "       [  1.964,   0.   , 116.   ],\n",
       "       [  2.081,   0.   , 116.   ],\n",
       "       [  2.197,   0.   , 116.   ],\n",
       "       [  2.314,   0.   , 116.   ],\n",
       "       [  2.43 ,   0.   , 116.   ],\n",
       "       [  2.546,   0.   , 116.   ],\n",
       "       [  2.663,   0.   , 116.   ],\n",
       "       [  2.779,   0.   , 116.   ],\n",
       "       [  2.896,   0.   , 116.   ],\n",
       "       [  3.012,   0.   , 116.   ],\n",
       "       [  3.128,   0.   , 116.   ],\n",
       "       [  3.245,   0.   , 116.   ],\n",
       "       [  3.361,   0.   , 116.   ],\n",
       "       [  3.478,   0.   , 116.   ],\n",
       "       [  3.594,   0.   , 116.   ],\n",
       "       [  3.71 ,   0.   , 116.   ],\n",
       "       [  3.827,   0.   , 116.   ]])"
      ]
     },
     "execution_count": 211,
     "metadata": {},
     "output_type": "execute_result"
    }
   ],
   "source": [
    "bandgap_data"
   ]
  },
  {
   "cell_type": "code",
   "execution_count": null,
   "metadata": {},
   "outputs": [],
   "source": []
  }
 ],
 "metadata": {
  "kernelspec": {
   "display_name": "Python 3.7.5 ('ml')",
   "language": "python",
   "name": "python3"
  },
  "language_info": {
   "codemirror_mode": {
    "name": "ipython",
    "version": 3
   },
   "file_extension": ".py",
   "mimetype": "text/x-python",
   "name": "python",
   "nbconvert_exporter": "python",
   "pygments_lexer": "ipython3",
   "version": "3.7.5"
  },
  "orig_nbformat": 4,
  "vscode": {
   "interpreter": {
    "hash": "d48191cd2a5fbdbfad76bd510861083e972cc391c91f9dce5a73ba93bdfff579"
   }
  }
 },
 "nbformat": 4,
 "nbformat_minor": 2
}
