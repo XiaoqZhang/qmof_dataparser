{
 "cells": [
  {
   "cell_type": "code",
   "execution_count": 1,
   "metadata": {},
   "outputs": [],
   "source": [
    "import json\n",
    "import numpy as np\n",
    "import pandas as pd\n",
    "import os\n",
    "\n",
    "from scipy.ndimage import gaussian_filter1d\n",
    "\n",
    "import matplotlib.pyplot as plt\n",
    "plt.rcParams[\"font.size\"] = 18"
   ]
  },
  {
   "cell_type": "code",
   "execution_count": 2,
   "metadata": {},
   "outputs": [],
   "source": [
    "with open(\"../qmof.json\") as file:\n",
    "    qmof_data = json.load(file)\n",
    "    qmof_df = pd.json_normalize(qmof_data).set_index(\"qmof_id\")\n"
   ]
  },
  {
   "cell_type": "code",
   "execution_count": 3,
   "metadata": {},
   "outputs": [
    {
     "data": {
      "text/plain": [
       "'ABACUF01_FSR'"
      ]
     },
     "execution_count": 3,
     "metadata": {},
     "output_type": "execute_result"
    }
   ],
   "source": [
    "# qmof_id to name\n",
    "qmof_id = \"qmof-8a95c27\"\n",
    "s = qmof_df[qmof_df.index == qmof_id][\"name\"].item()\n",
    "s"
   ]
  },
  {
   "cell_type": "code",
   "execution_count": 15,
   "metadata": {},
   "outputs": [
    {
     "data": {
      "text/plain": [
       "'qmof-0a35e41'"
      ]
     },
     "execution_count": 15,
     "metadata": {},
     "output_type": "execute_result"
    }
   ],
   "source": [
    "# name to qmof_id\n",
    "s = \"DAGDEV_FSR\"\n",
    "qmof_id = qmof_df[qmof_df[\"name\"] == s].index.item()\n",
    "qmof_id"
   ]
  },
  {
   "cell_type": "code",
   "execution_count": 16,
   "metadata": {},
   "outputs": [],
   "source": [
    "qmof_df.loc[qmof_df.index == qmof_id, \"dos_in_bandgap\"] = 0"
   ]
  },
  {
   "cell_type": "code",
   "execution_count": 17,
   "metadata": {},
   "outputs": [],
   "source": [
    "bandgap = qmof_df[qmof_df[\"name\"]==s][\"outputs.pbe.bandgap\"].item()\n",
    "vbm = qmof_df[qmof_df[\"name\"]==s][\"outputs.pbe.vbm\"].item()\n",
    "cbm = qmof_df[qmof_df[\"name\"]==s][\"outputs.pbe.cbm\"].item()"
   ]
  },
  {
   "cell_type": "code",
   "execution_count": 18,
   "metadata": {},
   "outputs": [
    {
     "name": "stdout",
     "output_type": "stream",
     "text": [
      "1.6668740000000002\n",
      "1.834665\n",
      "3.501539\n",
      "1.6668740000000002\n"
     ]
    }
   ],
   "source": [
    "print(bandgap)\n",
    "print(vbm)\n",
    "print(cbm)\n",
    "print(cbm-vbm)"
   ]
  },
  {
   "cell_type": "code",
   "execution_count": 19,
   "metadata": {},
   "outputs": [],
   "source": [
    "dos_path = os.path.join(\"../files/EIDyjluDQ3eZnt-gI7Fc4Q/vasp_files/\", s, \"DOSCAR\")"
   ]
  },
  {
   "cell_type": "code",
   "execution_count": 20,
   "metadata": {},
   "outputs": [],
   "source": [
    "with open(dos_path) as file:\n",
    "    lines = file.readlines()\n",
    "    nions = int(lines[0].split()[1])\n",
    "    e_info = [float(i) for i in lines[5].split()]\n",
    "    e_min, e_max, nedos, efermi = e_info[0], e_info[1], int(e_info[2]), e_info[3]\n",
    "\n",
    "    dos_data = np.array([[float(x) for x in l.split()] for l in lines[6:6+nedos]])\n",
    "\n",
    "    atom_line_idx = np.array([7+ion_idx+(ion_idx+1)*nedos for ion_idx in range(nions)])\n",
    "    atom_dos_data = np.array([[[float(x) for x in l.split()] for l in lines[idx:idx+nedos]] for idx in atom_line_idx])"
   ]
  },
  {
   "cell_type": "code",
   "execution_count": 40,
   "metadata": {},
   "outputs": [
    {
     "data": {
      "text/plain": [
       "(301, 5)"
      ]
     },
     "execution_count": 40,
     "metadata": {},
     "output_type": "execute_result"
    }
   ],
   "source": [
    "dos_data.shape"
   ]
  },
  {
   "cell_type": "code",
   "execution_count": 21,
   "metadata": {},
   "outputs": [
    {
     "data": {
      "text/plain": [
       "(8, 5)"
      ]
     },
     "execution_count": 21,
     "metadata": {},
     "output_type": "execute_result"
    }
   ],
   "source": [
    "dos_data_bg = dos_data[(dos_data[:,0] > efermi) & (dos_data[:,0] < efermi+bandgap)]\n",
    "dos_data_bg.shape"
   ]
  },
  {
   "cell_type": "code",
   "execution_count": 22,
   "metadata": {},
   "outputs": [
    {
     "data": {
      "text/plain": [
       "array([  22.367,    0.   ,    3.909, 1104.   ,  984.8  ])"
      ]
     },
     "execution_count": 22,
     "metadata": {},
     "output_type": "execute_result"
    }
   ],
   "source": [
    "np.sum(dos_data_bg, axis=0)"
   ]
  },
  {
   "cell_type": "code",
   "execution_count": 23,
   "metadata": {},
   "outputs": [
    {
     "data": {
      "text/plain": [
       "1.94669122"
      ]
     },
     "execution_count": 23,
     "metadata": {},
     "output_type": "execute_result"
    }
   ],
   "source": [
    "efermi"
   ]
  },
  {
   "cell_type": "code",
   "execution_count": 24,
   "metadata": {},
   "outputs": [
    {
     "data": {
      "text/plain": [
       "3.61356522"
      ]
     },
     "execution_count": 24,
     "metadata": {},
     "output_type": "execute_result"
    }
   ],
   "source": [
    "efermi+bandgap"
   ]
  },
  {
   "cell_type": "code",
   "execution_count": 25,
   "metadata": {},
   "outputs": [
    {
     "data": {
      "text/plain": [
       "array([[  2.053,   0.   ,   0.   , 138.   , 123.   ],\n",
       "       [  2.265,   0.   ,   0.   , 138.   , 123.   ],\n",
       "       [  2.477,   0.   ,   0.   , 138.   , 123.   ],\n",
       "       [  2.69 ,   0.   ,   0.   , 138.   , 123.   ],\n",
       "       [  2.902,   0.   ,   0.   , 138.   , 123.   ],\n",
       "       [  3.114,   0.   ,   0.   , 138.   , 123.   ],\n",
       "       [  3.327,   0.   ,   0.   , 138.   , 123.   ],\n",
       "       [  3.539,   0.   ,   3.909, 138.   , 123.8  ]])"
      ]
     },
     "execution_count": 25,
     "metadata": {},
     "output_type": "execute_result"
    }
   ],
   "source": [
    "dos_data[(dos_data[:,0] > efermi) & (dos_data[:,0] < efermi+bandgap)]"
   ]
  },
  {
   "cell_type": "code",
   "execution_count": 26,
   "metadata": {},
   "outputs": [
    {
     "data": {
      "text/plain": [
       "array([  3.539,   0.   ,   3.909, 138.   , 123.8  ])"
      ]
     },
     "execution_count": 26,
     "metadata": {},
     "output_type": "execute_result"
    }
   ],
   "source": [
    "dos_data_bg[-1]"
   ]
  },
  {
   "cell_type": "code",
   "execution_count": 27,
   "metadata": {},
   "outputs": [
    {
     "data": {
      "text/plain": [
       "array([[  2.053,   0.   ,   0.   , 138.   , 123.   ],\n",
       "       [  2.265,   0.   ,   0.   , 138.   , 123.   ],\n",
       "       [  2.477,   0.   ,   0.   , 138.   , 123.   ],\n",
       "       [  2.69 ,   0.   ,   0.   , 138.   , 123.   ],\n",
       "       [  2.902,   0.   ,   0.   , 138.   , 123.   ],\n",
       "       [  3.114,   0.   ,   0.   , 138.   , 123.   ],\n",
       "       [  3.327,   0.   ,   0.   , 138.   , 123.   ],\n",
       "       [  3.539,   0.   ,   3.909, 138.   , 123.8  ]])"
      ]
     },
     "execution_count": 27,
     "metadata": {},
     "output_type": "execute_result"
    }
   ],
   "source": [
    "dos_data_bg"
   ]
  },
  {
   "cell_type": "code",
   "execution_count": 28,
   "metadata": {},
   "outputs": [],
   "source": [
    "atom_dos_bg = atom_dos_data[(atom_dos_data[:,:,0] > efermi) & (atom_dos_data[:,:,0] < efermi+bandgap)]\n",
    "atom_dos_bg = atom_dos_bg.reshape(\n",
    "    atom_dos_data.shape[0],\n",
    "    dos_data_bg.shape[0],\n",
    "    atom_dos_data.shape[2]\n",
    ")"
   ]
  },
  {
   "cell_type": "code",
   "execution_count": 29,
   "metadata": {},
   "outputs": [
    {
     "data": {
      "text/plain": [
       "(75, 8, 19)"
      ]
     },
     "execution_count": 29,
     "metadata": {},
     "output_type": "execute_result"
    }
   ],
   "source": [
    "atom_dos_bg.shape"
   ]
  },
  {
   "cell_type": "code",
   "execution_count": 58,
   "metadata": {},
   "outputs": [],
   "source": [
    "up = np.array([1,3,5,7,9,11,13,15,17])\n",
    "down = np.array([2,4,6,8,10,12,14,16,18])"
   ]
  },
  {
   "cell_type": "code",
   "execution_count": 62,
   "metadata": {},
   "outputs": [
    {
     "data": {
      "text/plain": [
       "(39, 5, 9)"
      ]
     },
     "execution_count": 62,
     "metadata": {},
     "output_type": "execute_result"
    }
   ],
   "source": [
    "atom_dos_bg[:,:,up].shape"
   ]
  },
  {
   "cell_type": "code",
   "execution_count": 64,
   "metadata": {},
   "outputs": [
    {
     "data": {
      "text/plain": [
       "array([0., 0., 0., 0., 0., 0., 0., 0., 0., 0., 0., 0., 0., 0., 0., 0., 0.,\n",
       "       0., 0., 0., 0., 0., 0., 0., 0., 0., 0., 0., 0., 0., 0., 0., 0., 0.,\n",
       "       0., 0., 0., 0., 0.])"
      ]
     },
     "execution_count": 64,
     "metadata": {},
     "output_type": "execute_result"
    }
   ],
   "source": [
    "np.sum(np.sum(atom_dos_bg[:,:,up], axis=2), axis=1)"
   ]
  },
  {
   "cell_type": "code",
   "execution_count": 50,
   "metadata": {},
   "outputs": [],
   "source": [
    "atom_bg_sum = np.sum(atom_dos_bg, axis=2) - atom_dos_bg[:,:,0]"
   ]
  },
  {
   "cell_type": "code",
   "execution_count": 56,
   "metadata": {},
   "outputs": [
    {
     "data": {
      "text/plain": [
       "(39, 5)"
      ]
     },
     "execution_count": 56,
     "metadata": {},
     "output_type": "execute_result"
    }
   ],
   "source": [
    "atom_bg_sum.shape"
   ]
  },
  {
   "cell_type": "code",
   "execution_count": 52,
   "metadata": {},
   "outputs": [
    {
     "data": {
      "text/plain": [
       "0.0"
      ]
     },
     "execution_count": 52,
     "metadata": {},
     "output_type": "execute_result"
    }
   ],
   "source": [
    "np.sum(dos_data_bg, axis=0)[1]"
   ]
  },
  {
   "cell_type": "code",
   "execution_count": 53,
   "metadata": {},
   "outputs": [
    {
     "name": "stderr",
     "output_type": "stream",
     "text": [
      "/var/folders/gt/tsyp2wjd1ng0pkr1tf52kn600000gn/T/ipykernel_99143/779128951.py:1: RuntimeWarning: divide by zero encountered in true_divide\n",
      "  np.sum(atom_bg_sum, axis=1)/np.sum(dos_data_bg, axis=0)[1]\n"
     ]
    },
    {
     "data": {
      "text/plain": [
       "array([inf, inf, inf, inf, inf, inf, inf, inf, inf, inf, inf, inf, inf,\n",
       "       inf, inf, inf, inf, inf, inf, inf, inf, inf, inf, inf, inf, inf,\n",
       "       inf, inf, inf, inf, inf, inf, inf, inf, inf, inf, inf, inf, inf])"
      ]
     },
     "execution_count": 53,
     "metadata": {},
     "output_type": "execute_result"
    }
   ],
   "source": [
    "np.sum(atom_bg_sum, axis=1)/np.sum(dos_data_bg, axis=0)[1]"
   ]
  },
  {
   "cell_type": "code",
   "execution_count": 54,
   "metadata": {},
   "outputs": [],
   "source": [
    "energies = dos_data[:,0]"
   ]
  },
  {
   "cell_type": "code",
   "execution_count": 23,
   "metadata": {},
   "outputs": [],
   "source": [
    "atom_dos_sum = np.sum(atom_dos_data, axis=2) - atom_dos_data[:,:,0]"
   ]
  },
  {
   "cell_type": "code",
   "execution_count": 24,
   "metadata": {},
   "outputs": [],
   "source": [
    "useful_data = np.array([atom_dos_sum[id, :][(energies>efermi) & (energies<efermi+bandgap)] for id in range(atom_dos_sum.shape[0])])"
   ]
  },
  {
   "cell_type": "code",
   "execution_count": 25,
   "metadata": {},
   "outputs": [
    {
     "data": {
      "text/plain": [
       "(104, 22)"
      ]
     },
     "execution_count": 25,
     "metadata": {},
     "output_type": "execute_result"
    }
   ],
   "source": [
    "useful_data.shape"
   ]
  },
  {
   "cell_type": "code",
   "execution_count": 26,
   "metadata": {},
   "outputs": [],
   "source": [
    "bandgap_data = dos_data[(dos_data[:,0] > efermi) & (dos_data[:,0]<efermi+bandgap+0.2)]#[:-1]\n",
    "#bandgap_data = bandgap_data[:-1]"
   ]
  },
  {
   "cell_type": "code",
   "execution_count": 27,
   "metadata": {},
   "outputs": [
    {
     "data": {
      "text/plain": [
       "array([[  0.935,   0.   , 488.   ],\n",
       "       [  1.055,   0.   , 488.   ],\n",
       "       [  1.175,   0.   , 488.   ],\n",
       "       [  1.295,   0.   , 488.   ],\n",
       "       [  1.415,   0.   , 488.   ],\n",
       "       [  1.536,   0.   , 488.   ],\n",
       "       [  1.656,   0.   , 488.   ],\n",
       "       [  1.776,   0.   , 488.   ],\n",
       "       [  1.896,   0.   , 488.   ],\n",
       "       [  2.016,   0.   , 488.   ],\n",
       "       [  2.137,   0.   , 488.   ],\n",
       "       [  2.257,   0.   , 488.   ],\n",
       "       [  2.377,   0.   , 488.   ],\n",
       "       [  2.497,   0.   , 488.   ],\n",
       "       [  2.617,   0.   , 488.   ],\n",
       "       [  2.737,   0.   , 488.   ],\n",
       "       [  2.858,   0.   , 488.   ],\n",
       "       [  2.978,   0.   , 488.   ],\n",
       "       [  3.098,   0.   , 488.   ],\n",
       "       [  3.218,   0.   , 488.   ],\n",
       "       [  3.338,   0.   , 488.   ],\n",
       "       [  3.458,   8.279, 489.   ],\n",
       "       [  3.579,  35.66 , 493.3  ],\n",
       "       [  3.699,  44.4  , 503.3  ]])"
      ]
     },
     "execution_count": 27,
     "metadata": {},
     "output_type": "execute_result"
    }
   ],
   "source": [
    "bandgap_data"
   ]
  },
  {
   "cell_type": "code",
   "execution_count": 127,
   "metadata": {},
   "outputs": [
    {
     "data": {
      "text/plain": [
       "0.23216489063376333"
      ]
     },
     "execution_count": 127,
     "metadata": {},
     "output_type": "execute_result"
    }
   ],
   "source": [
    "8.279/35.66"
   ]
  },
  {
   "cell_type": "code",
   "execution_count": 119,
   "metadata": {},
   "outputs": [
    {
     "data": {
      "text/plain": [
       "False"
      ]
     },
     "execution_count": 119,
     "metadata": {},
     "output_type": "execute_result"
    }
   ],
   "source": [
    "bandgap_data[-1, 1] == 0"
   ]
  },
  {
   "cell_type": "code",
   "execution_count": 120,
   "metadata": {},
   "outputs": [],
   "source": [
    "peak_in_bandgap_atom = []\n",
    "for atom in range(atom_dos_data.shape[0]):\n",
    "    peak_in_bandgap_atom.append(atom_dos_sum[atom,:][(dos_data[:,0] > efermi) & (dos_data[:,0]<efermi+bandgap)])\n",
    "\n",
    "peak_in_bandgap_atom = np.array(peak_in_bandgap_atom)"
   ]
  },
  {
   "cell_type": "code",
   "execution_count": 121,
   "metadata": {},
   "outputs": [
    {
     "data": {
      "text/plain": [
       "array([[0.        , 0.        , 0.        , ..., 0.        , 0.        ,\n",
       "        0.0123759 ],\n",
       "       [0.        , 0.        , 0.        , ..., 0.        , 0.        ,\n",
       "        0.01238478],\n",
       "       [0.        , 0.        , 0.        , ..., 0.        , 0.        ,\n",
       "        0.01236781],\n",
       "       ...,\n",
       "       [0.        , 0.        , 0.        , ..., 0.        , 0.        ,\n",
       "        0.01572286],\n",
       "       [0.        , 0.        , 0.        , ..., 0.        , 0.        ,\n",
       "        0.01579726],\n",
       "       [0.        , 0.        , 0.        , ..., 0.        , 0.        ,\n",
       "        0.01577266]])"
      ]
     },
     "execution_count": 121,
     "metadata": {},
     "output_type": "execute_result"
    }
   ],
   "source": [
    "peak_in_bandgap_atom"
   ]
  },
  {
   "cell_type": "code",
   "execution_count": 122,
   "metadata": {},
   "outputs": [
    {
     "data": {
      "text/plain": [
       "<matplotlib.collections.PathCollection at 0x7fba48ea6fa0>"
      ]
     },
     "execution_count": 122,
     "metadata": {},
     "output_type": "execute_result"
    },
    {
     "data": {
      "image/png": "[encoded data removed]",
      "text/plain": [
       "<Figure size 432x288 with 1 Axes>"
      ]
     },
     "metadata": {
      "needs_background": "light"
     },
     "output_type": "display_data"
    }
   ],
   "source": [
    "plt.scatter(range(atom_dos_data.shape[0]), np.sum(peak_in_bandgap_atom, axis=1))"
   ]
  },
  {
   "cell_type": "code",
   "execution_count": 123,
   "metadata": {},
   "outputs": [
    {
     "data": {
      "text/plain": [
       "54.04"
      ]
     },
     "execution_count": 123,
     "metadata": {},
     "output_type": "execute_result"
    }
   ],
   "source": [
    "np.max(dos_data[:, 1][(energies>efermi-1) & (energies<efermi+7)])"
   ]
  },
  {
   "cell_type": "code",
   "execution_count": 124,
   "metadata": {},
   "outputs": [
    {
     "data": {
      "text/plain": [
       "Text(0.5, 1.0, 'qmof-b57edb0')"
      ]
     },
     "execution_count": 124,
     "metadata": {},
     "output_type": "execute_result"
    },
    {
     "data": {
      "image/png": "[encoded data removed]",
      "text/plain": [
       "<Figure size 720x432 with 1 Axes>"
      ]
     },
     "metadata": {
      "needs_background": "light"
     },
     "output_type": "display_data"
    }
   ],
   "source": [
    "fig, ax = plt.subplots()\n",
    "fig.set_size_inches(10, 6)\n",
    "ax.plot(\n",
    "    energies[(energies>efermi-1) & (energies<efermi+7)]-efermi,\n",
    "    dos_data[:, 1][(energies>efermi-1) & (energies<efermi+7)], \n",
    "    #gaussian_filter1d(dos_data[:, 1][(energies>efermi-1) & (energies<efermi+7)], sigma=bandgap)\n",
    ")\n",
    "ax.plot(\n",
    "    energies[(energies>efermi-1) & (energies<efermi+7)]-efermi, \n",
    "    atom_dos_sum[0,:][(energies>efermi-1) & (energies<efermi+7)]  \n",
    ")\n",
    "ax.plot([0,0], [0,np.max(dos_data[:, 1][(energies>efermi-1) & (energies<efermi+7)])], 'r--')\n",
    "ax.plot([bandgap, bandgap], [0,np.max(dos_data[:, 1][(energies>efermi-1) & (energies<efermi+7)])], 'r--')\n",
    "ax.set_xlabel(\"$E-E_{Fermi}\\ /\\ eV$\")\n",
    "ax.set_ylabel(\"Density of states\")\n",
    "ax.set_title(\"%s\" %qmof_id)"
   ]
  },
  {
   "cell_type": "markdown",
   "metadata": {},
   "source": [
    "# read qmofs with peaks in the bandgap"
   ]
  },
  {
   "cell_type": "code",
   "execution_count": 130,
   "metadata": {},
   "outputs": [],
   "source": [
    "with open(\"../files/mofs_with_peaks\") as f:\n",
    "    mofs_peak = [l.split() for l in f.readlines()]"
   ]
  },
  {
   "cell_type": "code",
   "execution_count": 131,
   "metadata": {},
   "outputs": [
    {
     "data": {
      "text/plain": [
       "4357"
      ]
     },
     "execution_count": 131,
     "metadata": {},
     "output_type": "execute_result"
    }
   ],
   "source": [
    "len(mofs_peak)"
   ]
  },
  {
   "cell_type": "code",
   "execution_count": 133,
   "metadata": {},
   "outputs": [],
   "source": [
    "qmof_id_peak = [qmof_df[qmof_df[\"name\"] == q[0]].index.item() for q in mofs_peak]"
   ]
  },
  {
   "cell_type": "code",
   "execution_count": 134,
   "metadata": {},
   "outputs": [
    {
     "data": {
      "text/plain": [
       "4357"
      ]
     },
     "execution_count": 134,
     "metadata": {},
     "output_type": "execute_result"
    }
   ],
   "source": [
    "len(qmof_id_peak)"
   ]
  },
  {
   "cell_type": "code",
   "execution_count": 135,
   "metadata": {},
   "outputs": [
    {
     "name": "stdout",
     "output_type": "stream",
     "text": [
      "yes\n"
     ]
    }
   ],
   "source": [
    "if \"qmof-8a95c27\" not in qmof_id_peak:\n",
    "    print(\"yes\")"
   ]
  },
  {
   "cell_type": "code",
   "execution_count": 17,
   "metadata": {},
   "outputs": [],
   "source": [
    "import shutil"
   ]
  },
  {
   "cell_type": "code",
   "execution_count": 20,
   "metadata": {},
   "outputs": [],
   "source": [
    "for x in qmof_id_peak:\n",
    "    src = os.path.join(\"/run/user/1001/gvfs/smb-share:server=lsmosrv2.epfl.ch,share=xiazhang/dos_plots\", x+\".png\")\n",
    "    dst = os.path.join(\"/run/user/1001/gvfs/smb-share:server=lsmosrv2.epfl.ch,share=xiazhang/dos_plots_peaks\", x+\".png\")\n",
    "    shutil.copyfile(src, dst)"
   ]
  },
  {
   "cell_type": "code",
   "execution_count": null,
   "metadata": {},
   "outputs": [],
   "source": []
  }
 ],
 "metadata": {
  "kernelspec": {
   "display_name": "Python 3.8.12 ('ml')",
   "language": "python",
   "name": "python3"
  },
  "language_info": {
   "codemirror_mode": {
    "name": "ipython",
    "version": 3
   },
   "file_extension": ".py",
   "mimetype": "text/x-python",
   "name": "python",
   "nbconvert_exporter": "python",
   "pygments_lexer": "ipython3",
   "version": "3.8.12"
  },
  "orig_nbformat": 4,
  "vscode": {
   "interpreter": {
    "hash": "8a1315b02a235bf79c68e093ca5453b5ada46ae87871d36c79602fa05a1f3eef"
   }
  }
 },
 "nbformat": 4,
 "nbformat_minor": 2
}
