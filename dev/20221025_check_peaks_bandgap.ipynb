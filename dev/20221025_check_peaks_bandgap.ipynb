{
 "cells": [
  {
   "cell_type": "code",
   "execution_count": 1,
   "metadata": {},
   "outputs": [],
   "source": [
    "import json\n",
    "import numpy as np\n",
    "import pandas as pd\n",
    "import os\n",
    "\n",
    "from scipy.ndimage import gaussian_filter1d\n",
    "\n",
    "import matplotlib.pyplot as plt\n",
    "plt.rcParams[\"font.size\"] = 18"
   ]
  },
  {
   "cell_type": "code",
   "execution_count": 2,
   "metadata": {},
   "outputs": [],
   "source": [
    "with open(\"../qmof.json\") as file:\n",
    "    qmof_data = json.load(file)\n",
    "    qmof_df = pd.json_normalize(qmof_data).set_index(\"qmof_id\")\n"
   ]
  },
  {
   "cell_type": "code",
   "execution_count": 136,
   "metadata": {},
   "outputs": [
    {
     "data": {
      "text/plain": [
       "'ABACUF01_FSR'"
      ]
     },
     "execution_count": 136,
     "metadata": {},
     "output_type": "execute_result"
    }
   ],
   "source": [
    "# qmof_id to name\n",
    "qmof_id = \"qmof-8a95c27\"\n",
    "s = qmof_df[qmof_df.index == qmof_id][\"name\"].item()\n",
    "s"
   ]
  },
  {
   "cell_type": "code",
   "execution_count": 3,
   "metadata": {},
   "outputs": [
    {
     "data": {
      "text/plain": [
       "'qmof-0ab4ab7'"
      ]
     },
     "execution_count": 3,
     "metadata": {},
     "output_type": "execute_result"
    }
   ],
   "source": [
    "# name to qmof_id\n",
    "s = \"FAVMIB_FSR\"\n",
    "qmof_id = qmof_df[qmof_df[\"name\"] == s].index.item()\n",
    "qmof_id"
   ]
  },
  {
   "cell_type": "code",
   "execution_count": 4,
   "metadata": {},
   "outputs": [],
   "source": [
    "bandgap = qmof_df[qmof_df[\"name\"]==s][\"outputs.pbe.bandgap\"].item()\n",
    "vbm = qmof_df[qmof_df[\"name\"]==s][\"outputs.pbe.vbm\"].item()\n",
    "cbm = qmof_df[qmof_df[\"name\"]==s][\"outputs.pbe.cbm\"].item()"
   ]
  },
  {
   "cell_type": "code",
   "execution_count": 5,
   "metadata": {},
   "outputs": [
    {
     "name": "stdout",
     "output_type": "stream",
     "text": [
      "2.539011\n",
      "0.079519\n",
      "2.61853\n",
      "2.539011\n"
     ]
    }
   ],
   "source": [
    "print(bandgap)\n",
    "print(vbm)\n",
    "print(cbm)\n",
    "print(cbm-vbm)"
   ]
  },
  {
   "cell_type": "code",
   "execution_count": 6,
   "metadata": {},
   "outputs": [],
   "source": [
    "dos_path = os.path.join(\"../files/EIDyjluDQ3eZnt-gI7Fc4Q/vasp_files/\", s, \"DOSCAR\")"
   ]
  },
  {
   "cell_type": "code",
   "execution_count": 7,
   "metadata": {},
   "outputs": [],
   "source": [
    "with open(dos_path) as file:\n",
    "    lines = file.readlines()\n",
    "    nions = int(lines[0].split()[1])\n",
    "    e_info = [float(i) for i in lines[5].split()]\n",
    "    e_min, e_max, nedos, efermi = e_info[0], e_info[1], int(e_info[2]), e_info[3]\n",
    "\n",
    "    dos_data = np.array([[float(x) for x in l.split()] for l in lines[6:6+nedos]])\n",
    "\n",
    "    atom_line_idx = np.array([7+ion_idx+(ion_idx+1)*nedos for ion_idx in range(nions)])\n",
    "    atom_dos_data = np.array([[[float(x) for x in l.split()] for l in lines[idx:idx+nedos]] for idx in atom_line_idx])"
   ]
  },
  {
   "cell_type": "code",
   "execution_count": 8,
   "metadata": {},
   "outputs": [
    {
     "data": {
      "text/plain": [
       "(301, 3)"
      ]
     },
     "execution_count": 8,
     "metadata": {},
     "output_type": "execute_result"
    }
   ],
   "source": [
    "dos_data.shape"
   ]
  },
  {
   "cell_type": "code",
   "execution_count": 9,
   "metadata": {},
   "outputs": [
    {
     "data": {
      "text/plain": [
       "(22, 3)"
      ]
     },
     "execution_count": 9,
     "metadata": {},
     "output_type": "execute_result"
    }
   ],
   "source": [
    "dos_data_bg = dos_data[(dos_data[:,0] > efermi) & (dos_data[:,0] < efermi+bandgap)]\n",
    "dos_data_bg.shape"
   ]
  },
  {
   "cell_type": "code",
   "execution_count": 10,
   "metadata": {},
   "outputs": [
    {
     "data": {
      "text/plain": [
       "0.19101515"
      ]
     },
     "execution_count": 10,
     "metadata": {},
     "output_type": "execute_result"
    }
   ],
   "source": [
    "efermi"
   ]
  },
  {
   "cell_type": "code",
   "execution_count": 11,
   "metadata": {},
   "outputs": [
    {
     "data": {
      "text/plain": [
       "2.73002615"
      ]
     },
     "execution_count": 11,
     "metadata": {},
     "output_type": "execute_result"
    }
   ],
   "source": [
    "efermi+bandgap"
   ]
  },
  {
   "cell_type": "code",
   "execution_count": 33,
   "metadata": {},
   "outputs": [
    {
     "data": {
      "text/plain": [
       "array([[2.780e-01, 0.000e+00, 3.080e+02],\n",
       "       [3.930e-01, 0.000e+00, 3.080e+02],\n",
       "       [5.090e-01, 0.000e+00, 3.080e+02],\n",
       "       [6.250e-01, 0.000e+00, 3.080e+02],\n",
       "       [7.400e-01, 0.000e+00, 3.080e+02],\n",
       "       [8.560e-01, 0.000e+00, 3.080e+02],\n",
       "       [9.720e-01, 0.000e+00, 3.080e+02],\n",
       "       [1.087e+00, 0.000e+00, 3.080e+02],\n",
       "       [1.203e+00, 0.000e+00, 3.080e+02],\n",
       "       [1.318e+00, 0.000e+00, 3.080e+02],\n",
       "       [1.434e+00, 0.000e+00, 3.080e+02],\n",
       "       [1.550e+00, 0.000e+00, 3.080e+02],\n",
       "       [1.665e+00, 0.000e+00, 3.080e+02],\n",
       "       [1.781e+00, 0.000e+00, 3.080e+02],\n",
       "       [1.897e+00, 0.000e+00, 3.080e+02],\n",
       "       [2.012e+00, 0.000e+00, 3.080e+02],\n",
       "       [2.128e+00, 0.000e+00, 3.080e+02],\n",
       "       [2.244e+00, 0.000e+00, 3.080e+02],\n",
       "       [2.359e+00, 0.000e+00, 3.080e+02],\n",
       "       [2.475e+00, 0.000e+00, 3.080e+02],\n",
       "       [2.590e+00, 2.037e-04, 3.080e+02],\n",
       "       [2.706e+00, 1.332e-12, 3.087e+02]])"
      ]
     },
     "execution_count": 33,
     "metadata": {},
     "output_type": "execute_result"
    }
   ],
   "source": [
    "dos_data[(dos_data[:,0] > efermi) & (dos_data[:,0] < efermi+bandgap)]"
   ]
  },
  {
   "cell_type": "code",
   "execution_count": 34,
   "metadata": {},
   "outputs": [
    {
     "data": {
      "text/plain": [
       "array([2.706e+00, 1.332e-12, 3.087e+02])"
      ]
     },
     "execution_count": 34,
     "metadata": {},
     "output_type": "execute_result"
    }
   ],
   "source": [
    "dos_data_bg[-1]"
   ]
  },
  {
   "cell_type": "code",
   "execution_count": 35,
   "metadata": {},
   "outputs": [
    {
     "data": {
      "text/plain": [
       "array([[2.780e-01, 0.000e+00, 3.080e+02],\n",
       "       [3.930e-01, 0.000e+00, 3.080e+02],\n",
       "       [5.090e-01, 0.000e+00, 3.080e+02],\n",
       "       [6.250e-01, 0.000e+00, 3.080e+02],\n",
       "       [7.400e-01, 0.000e+00, 3.080e+02],\n",
       "       [8.560e-01, 0.000e+00, 3.080e+02],\n",
       "       [9.720e-01, 0.000e+00, 3.080e+02],\n",
       "       [1.087e+00, 0.000e+00, 3.080e+02],\n",
       "       [1.203e+00, 0.000e+00, 3.080e+02],\n",
       "       [1.318e+00, 0.000e+00, 3.080e+02],\n",
       "       [1.434e+00, 0.000e+00, 3.080e+02],\n",
       "       [1.550e+00, 0.000e+00, 3.080e+02],\n",
       "       [1.665e+00, 0.000e+00, 3.080e+02],\n",
       "       [1.781e+00, 0.000e+00, 3.080e+02],\n",
       "       [1.897e+00, 0.000e+00, 3.080e+02],\n",
       "       [2.012e+00, 0.000e+00, 3.080e+02],\n",
       "       [2.128e+00, 0.000e+00, 3.080e+02],\n",
       "       [2.244e+00, 0.000e+00, 3.080e+02],\n",
       "       [2.359e+00, 0.000e+00, 3.080e+02],\n",
       "       [2.475e+00, 0.000e+00, 3.080e+02],\n",
       "       [2.590e+00, 2.037e-04, 3.080e+02],\n",
       "       [2.706e+00, 1.332e-12, 3.087e+02]])"
      ]
     },
     "execution_count": 35,
     "metadata": {},
     "output_type": "execute_result"
    }
   ],
   "source": [
    "dos_data_bg"
   ]
  },
  {
   "cell_type": "code",
   "execution_count": 36,
   "metadata": {},
   "outputs": [],
   "source": [
    "atom_dos_bg = atom_dos_data[(atom_dos_data[:,:,0] > efermi) & (atom_dos_data[:,:,0] < efermi+bandgap)]\n",
    "atom_dos_bg = atom_dos_bg.reshape(\n",
    "    atom_dos_data.shape[0],\n",
    "    dos_data_bg.shape[0],\n",
    "    atom_dos_data.shape[2]\n",
    ")"
   ]
  },
  {
   "cell_type": "code",
   "execution_count": 37,
   "metadata": {},
   "outputs": [
    {
     "data": {
      "text/plain": [
       "(90, 22, 10)"
      ]
     },
     "execution_count": 37,
     "metadata": {},
     "output_type": "execute_result"
    }
   ],
   "source": [
    "atom_dos_bg.shape"
   ]
  },
  {
   "cell_type": "code",
   "execution_count": 38,
   "metadata": {},
   "outputs": [],
   "source": [
    "atom_bg_sum = np.sum(atom_dos_bg, axis=2) - atom_dos_bg[:,:,0]"
   ]
  },
  {
   "cell_type": "code",
   "execution_count": 39,
   "metadata": {},
   "outputs": [
    {
     "data": {
      "text/plain": [
       "(90, 22)"
      ]
     },
     "execution_count": 39,
     "metadata": {},
     "output_type": "execute_result"
    }
   ],
   "source": [
    "atom_bg_sum.shape"
   ]
  },
  {
   "cell_type": "code",
   "execution_count": 40,
   "metadata": {},
   "outputs": [],
   "source": [
    "energies = dos_data[:,0]"
   ]
  },
  {
   "cell_type": "code",
   "execution_count": 41,
   "metadata": {},
   "outputs": [],
   "source": [
    "atom_dos_sum = np.sum(atom_dos_data, axis=2) - atom_dos_data[:,:,0]"
   ]
  },
  {
   "cell_type": "code",
   "execution_count": 42,
   "metadata": {},
   "outputs": [],
   "source": [
    "useful_data = np.array([atom_dos_sum[id, :][(energies>efermi) & (energies<efermi+bandgap)] for id in range(atom_dos_sum.shape[0])])"
   ]
  },
  {
   "cell_type": "code",
   "execution_count": 43,
   "metadata": {},
   "outputs": [
    {
     "data": {
      "text/plain": [
       "(90, 22)"
      ]
     },
     "execution_count": 43,
     "metadata": {},
     "output_type": "execute_result"
    }
   ],
   "source": [
    "useful_data.shape"
   ]
  },
  {
   "cell_type": "code",
   "execution_count": 44,
   "metadata": {},
   "outputs": [],
   "source": [
    "bandgap_data = dos_data[(dos_data[:,0] > efermi) & (dos_data[:,0]<efermi+bandgap)]#[:-1]\n",
    "#bandgap_data = bandgap_data[:-1]"
   ]
  },
  {
   "cell_type": "code",
   "execution_count": 45,
   "metadata": {},
   "outputs": [
    {
     "data": {
      "text/plain": [
       "array([[2.780e-01, 0.000e+00, 3.080e+02],\n",
       "       [3.930e-01, 0.000e+00, 3.080e+02],\n",
       "       [5.090e-01, 0.000e+00, 3.080e+02],\n",
       "       [6.250e-01, 0.000e+00, 3.080e+02],\n",
       "       [7.400e-01, 0.000e+00, 3.080e+02],\n",
       "       [8.560e-01, 0.000e+00, 3.080e+02],\n",
       "       [9.720e-01, 0.000e+00, 3.080e+02],\n",
       "       [1.087e+00, 0.000e+00, 3.080e+02],\n",
       "       [1.203e+00, 0.000e+00, 3.080e+02],\n",
       "       [1.318e+00, 0.000e+00, 3.080e+02],\n",
       "       [1.434e+00, 0.000e+00, 3.080e+02],\n",
       "       [1.550e+00, 0.000e+00, 3.080e+02],\n",
       "       [1.665e+00, 0.000e+00, 3.080e+02],\n",
       "       [1.781e+00, 0.000e+00, 3.080e+02],\n",
       "       [1.897e+00, 0.000e+00, 3.080e+02],\n",
       "       [2.012e+00, 0.000e+00, 3.080e+02],\n",
       "       [2.128e+00, 0.000e+00, 3.080e+02],\n",
       "       [2.244e+00, 0.000e+00, 3.080e+02],\n",
       "       [2.359e+00, 0.000e+00, 3.080e+02],\n",
       "       [2.475e+00, 0.000e+00, 3.080e+02],\n",
       "       [2.590e+00, 2.037e-04, 3.080e+02],\n",
       "       [2.706e+00, 1.332e-12, 3.087e+02]])"
      ]
     },
     "execution_count": 45,
     "metadata": {},
     "output_type": "execute_result"
    }
   ],
   "source": [
    "bandgap_data"
   ]
  },
  {
   "cell_type": "code",
   "execution_count": 46,
   "metadata": {},
   "outputs": [
    {
     "data": {
      "text/plain": [
       "False"
      ]
     },
     "execution_count": 46,
     "metadata": {},
     "output_type": "execute_result"
    }
   ],
   "source": [
    "bandgap_data[-1, 1] == 0"
   ]
  },
  {
   "cell_type": "code",
   "execution_count": 47,
   "metadata": {},
   "outputs": [],
   "source": [
    "peak_in_bandgap_atom = []\n",
    "for atom in range(atom_dos_data.shape[0]):\n",
    "    peak_in_bandgap_atom.append(atom_dos_sum[atom,:][(dos_data[:,0] > efermi) & (dos_data[:,0]<efermi+bandgap)])\n",
    "\n",
    "peak_in_bandgap_atom = np.array(peak_in_bandgap_atom)"
   ]
  },
  {
   "cell_type": "code",
   "execution_count": 48,
   "metadata": {},
   "outputs": [
    {
     "data": {
      "text/plain": [
       "array([[0.00000000e+00, 0.00000000e+00, 0.00000000e+00, ...,\n",
       "        0.00000000e+00, 4.31017577e-09, 0.00000000e+00],\n",
       "       [0.00000000e+00, 0.00000000e+00, 0.00000000e+00, ...,\n",
       "        0.00000000e+00, 4.30973701e-09, 0.00000000e+00],\n",
       "       [0.00000000e+00, 0.00000000e+00, 0.00000000e+00, ...,\n",
       "        0.00000000e+00, 6.37336983e-09, 0.00000000e+00],\n",
       "       ...,\n",
       "       [0.00000000e+00, 0.00000000e+00, 0.00000000e+00, ...,\n",
       "        0.00000000e+00, 2.41244003e-09, 0.00000000e+00],\n",
       "       [0.00000000e+00, 0.00000000e+00, 0.00000000e+00, ...,\n",
       "        0.00000000e+00, 1.73641319e-08, 0.00000000e+00],\n",
       "       [0.00000000e+00, 0.00000000e+00, 0.00000000e+00, ...,\n",
       "        0.00000000e+00, 1.73531141e-08, 0.00000000e+00]])"
      ]
     },
     "execution_count": 48,
     "metadata": {},
     "output_type": "execute_result"
    }
   ],
   "source": [
    "peak_in_bandgap_atom"
   ]
  },
  {
   "cell_type": "code",
   "execution_count": 49,
   "metadata": {},
   "outputs": [
    {
     "data": {
      "text/plain": [
       "<matplotlib.collections.PathCollection at 0x7fba6c14f9a0>"
      ]
     },
     "execution_count": 49,
     "metadata": {},
     "output_type": "execute_result"
    },
    {
     "data": {
      "image/png": "[encoded data removed]",
      "text/plain": [
       "<Figure size 432x288 with 1 Axes>"
      ]
     },
     "metadata": {
      "needs_background": "light"
     },
     "output_type": "display_data"
    }
   ],
   "source": [
    "plt.scatter(range(atom_dos_data.shape[0]), np.sum(peak_in_bandgap_atom, axis=1))"
   ]
  },
  {
   "cell_type": "code",
   "execution_count": 50,
   "metadata": {},
   "outputs": [
    {
     "data": {
      "text/plain": [
       "33.89"
      ]
     },
     "execution_count": 50,
     "metadata": {},
     "output_type": "execute_result"
    }
   ],
   "source": [
    "np.max(dos_data[:, 1][(energies>efermi-1) & (energies<efermi+7)])"
   ]
  },
  {
   "cell_type": "code",
   "execution_count": 51,
   "metadata": {},
   "outputs": [
    {
     "data": {
      "text/plain": [
       "Text(0.5, 1.0, 'qmof-0ab4ab7')"
      ]
     },
     "execution_count": 51,
     "metadata": {},
     "output_type": "execute_result"
    },
    {
     "data": {
      "image/png": "[encoded data removed]",
      "text/plain": [
       "<Figure size 720x432 with 1 Axes>"
      ]
     },
     "metadata": {
      "needs_background": "light"
     },
     "output_type": "display_data"
    }
   ],
   "source": [
    "fig, ax = plt.subplots()\n",
    "fig.set_size_inches(10, 6)\n",
    "ax.plot(\n",
    "    energies[(energies>efermi-1) & (energies<efermi+7)]-efermi,\n",
    "    dos_data[:, 1][(energies>efermi-1) & (energies<efermi+7)], \n",
    "    #gaussian_filter1d(dos_data[:, 1][(energies>efermi-1) & (energies<efermi+7)], sigma=bandgap)\n",
    ")\n",
    "ax.plot(\n",
    "    energies[(energies>efermi-1) & (energies<efermi+7)]-efermi, \n",
    "    atom_dos_sum[0,:][(energies>efermi-1) & (energies<efermi+7)]  \n",
    ")\n",
    "ax.plot([0,0], [0,np.max(dos_data[:, 1][(energies>efermi-1) & (energies<efermi+7)])], 'r--')\n",
    "ax.plot([bandgap, bandgap], [0,np.max(dos_data[:, 1][(energies>efermi-1) & (energies<efermi+7)])], 'r--')\n",
    "ax.set_xlabel(\"$E-E_{Fermi}\\ /\\ eV$\")\n",
    "ax.set_ylabel(\"Density of states\")\n",
    "ax.set_title(\"%s\" %qmof_id)"
   ]
  },
  {
   "cell_type": "markdown",
   "metadata": {},
   "source": [
    "# read qmofs with peaks in the bandgap"
   ]
  },
  {
   "cell_type": "code",
   "execution_count": 130,
   "metadata": {},
   "outputs": [],
   "source": [
    "with open(\"../files/mofs_with_peaks\") as f:\n",
    "    mofs_peak = [l.split() for l in f.readlines()]"
   ]
  },
  {
   "cell_type": "code",
   "execution_count": 131,
   "metadata": {},
   "outputs": [
    {
     "data": {
      "text/plain": [
       "4357"
      ]
     },
     "execution_count": 131,
     "metadata": {},
     "output_type": "execute_result"
    }
   ],
   "source": [
    "len(mofs_peak)"
   ]
  },
  {
   "cell_type": "code",
   "execution_count": 133,
   "metadata": {},
   "outputs": [],
   "source": [
    "qmof_id_peak = [qmof_df[qmof_df[\"name\"] == q[0]].index.item() for q in mofs_peak]"
   ]
  },
  {
   "cell_type": "code",
   "execution_count": 134,
   "metadata": {},
   "outputs": [
    {
     "data": {
      "text/plain": [
       "4357"
      ]
     },
     "execution_count": 134,
     "metadata": {},
     "output_type": "execute_result"
    }
   ],
   "source": [
    "len(qmof_id_peak)"
   ]
  },
  {
   "cell_type": "code",
   "execution_count": 135,
   "metadata": {},
   "outputs": [
    {
     "name": "stdout",
     "output_type": "stream",
     "text": [
      "yes\n"
     ]
    }
   ],
   "source": [
    "if \"qmof-8a95c27\" not in qmof_id_peak:\n",
    "    print(\"yes\")"
   ]
  },
  {
   "cell_type": "code",
   "execution_count": 17,
   "metadata": {},
   "outputs": [],
   "source": [
    "import shutil"
   ]
  },
  {
   "cell_type": "code",
   "execution_count": 20,
   "metadata": {},
   "outputs": [],
   "source": [
    "for x in qmof_id_peak:\n",
    "    src = os.path.join(\"/run/user/1001/gvfs/smb-share:server=lsmosrv2.epfl.ch,share=xiazhang/dos_plots\", x+\".png\")\n",
    "    dst = os.path.join(\"/run/user/1001/gvfs/smb-share:server=lsmosrv2.epfl.ch,share=xiazhang/dos_plots_peaks\", x+\".png\")\n",
    "    shutil.copyfile(src, dst)"
   ]
  },
  {
   "cell_type": "code",
   "execution_count": null,
   "metadata": {},
   "outputs": [],
   "source": []
  }
 ],
 "metadata": {
  "kernelspec": {
   "display_name": "Python 3.8.12 ('ml')",
   "language": "python",
   "name": "python3"
  },
  "language_info": {
   "codemirror_mode": {
    "name": "ipython",
    "version": 3
   },
   "file_extension": ".py",
   "mimetype": "text/x-python",
   "name": "python",
   "nbconvert_exporter": "python",
   "pygments_lexer": "ipython3",
   "version": "3.8.12"
  },
  "orig_nbformat": 4,
  "vscode": {
   "interpreter": {
    "hash": "8a1315b02a235bf79c68e093ca5453b5ada46ae87871d36c79602fa05a1f3eef"
   }
  }
 },
 "nbformat": 4,
 "nbformat_minor": 2
}
