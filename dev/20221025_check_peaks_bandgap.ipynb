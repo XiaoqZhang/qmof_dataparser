{
 "cells": [
  {
   "cell_type": "code",
   "execution_count": 48,
   "metadata": {},
   "outputs": [],
   "source": [
    "import json\n",
    "import numpy as np\n",
    "import pandas as pd\n",
    "import os\n",
    "\n",
    "from scipy.ndimage import gaussian_filter1d\n",
    "\n",
    "import matplotlib.pyplot as plt\n",
    "plt.rcParams[\"font.size\"] = 18"
   ]
  },
  {
   "cell_type": "code",
   "execution_count": 49,
   "metadata": {},
   "outputs": [],
   "source": [
    "def min_max(arr):\n",
    "    return (arr-np.min(arr))/(np.max(arr)-np.min(arr))"
   ]
  },
  {
   "cell_type": "code",
   "execution_count": 50,
   "metadata": {},
   "outputs": [],
   "source": [
    "with open(\"../qmof.json\") as file:\n",
    "    qmof_data = json.load(file)\n",
    "    qmof_df = pd.json_normalize(qmof_data).set_index(\"qmof_id\")\n"
   ]
  },
  {
   "cell_type": "code",
   "execution_count": 90,
   "metadata": {},
   "outputs": [
    {
     "data": {
      "text/plain": [
       "'ABACUF01_FSR'"
      ]
     },
     "execution_count": 90,
     "metadata": {},
     "output_type": "execute_result"
    }
   ],
   "source": [
    "# qmof_id to name\n",
    "qmof_id = \"qmof-8a95c27\"\n",
    "s = qmof_df[qmof_df.index == qmof_id][\"name\"].item()\n",
    "s"
   ]
  },
  {
   "cell_type": "code",
   "execution_count": 111,
   "metadata": {},
   "outputs": [
    {
     "data": {
      "text/plain": [
       "'qmof-0a35e41'"
      ]
     },
     "execution_count": 111,
     "metadata": {},
     "output_type": "execute_result"
    }
   ],
   "source": [
    "# name to qmof_id\n",
    "s = \"DAGDEV_FSR\"\n",
    "qmof_id = qmof_df[qmof_df[\"name\"] == s].index.item()\n",
    "qmof_id"
   ]
  },
  {
   "cell_type": "code",
   "execution_count": 76,
   "metadata": {},
   "outputs": [],
   "source": [
    "qmof_df.loc[qmof_df.index == qmof_id, \"dos_in_bandgap\"] = 0"
   ]
  },
  {
   "cell_type": "code",
   "execution_count": 77,
   "metadata": {},
   "outputs": [],
   "source": [
    "bandgap = qmof_df[qmof_df[\"name\"]==s][\"outputs.pbe.bandgap\"].item()\n",
    "vbm = qmof_df[qmof_df[\"name\"]==s][\"outputs.pbe.vbm\"].item()\n",
    "cbm = qmof_df[qmof_df[\"name\"]==s][\"outputs.pbe.cbm\"].item()"
   ]
  },
  {
   "cell_type": "code",
   "execution_count": 78,
   "metadata": {},
   "outputs": [
    {
     "name": "stdout",
     "output_type": "stream",
     "text": [
      "0.6325270000000001\n",
      "0.605118\n",
      "1.237645\n",
      "0.6325270000000001\n"
     ]
    }
   ],
   "source": [
    "print(bandgap)\n",
    "print(vbm)\n",
    "print(cbm)\n",
    "print(cbm-vbm)"
   ]
  },
  {
   "cell_type": "code",
   "execution_count": 79,
   "metadata": {},
   "outputs": [],
   "source": [
    "dos_path = os.path.join(\"../files/EIDyjluDQ3eZnt-gI7Fc4Q/vasp_files/\", s, \"DOSCAR\")"
   ]
  },
  {
   "cell_type": "code",
   "execution_count": 80,
   "metadata": {},
   "outputs": [],
   "source": [
    "with open(dos_path) as file:\n",
    "    lines = file.readlines()\n",
    "    nions = int(lines[0].split()[1])\n",
    "    e_info = [float(i) for i in lines[5].split()]\n",
    "    e_min, e_max, nedos, efermi = e_info[0], e_info[1], int(e_info[2]), e_info[3]\n",
    "\n",
    "    dos_data = np.array([[float(x) for x in l.split()] for l in lines[6:6+nedos]])\n",
    "\n",
    "    atom_line_idx = np.array([7+ion_idx+(ion_idx+1)*nedos for ion_idx in range(nions)])\n",
    "    atom_dos_data = np.array([[[float(x) for x in l.split()] for l in lines[idx:idx+nedos]] for idx in atom_line_idx])"
   ]
  },
  {
   "cell_type": "code",
   "execution_count": 81,
   "metadata": {},
   "outputs": [],
   "source": [
    "# select data in the bandgap\n",
    "dos_data_bg = dos_data[(dos_data[:,0] > efermi) & (dos_data[:,0] < efermi+bandgap)]\n",
    "\n",
    "atom_dos_bg = atom_dos_data[(atom_dos_data[:,:,0] > efermi) & (atom_dos_data[:,:,0] < efermi+bandgap)]\n",
    "atom_dos_bg = atom_dos_bg.reshape(\n",
    "    atom_dos_data.shape[0],\n",
    "    dos_data_bg.shape[0],\n",
    "    atom_dos_data.shape[2]\n",
    ")"
   ]
  },
  {
   "cell_type": "code",
   "execution_count": 82,
   "metadata": {},
   "outputs": [
    {
     "data": {
      "text/plain": [
       "(5, 5)"
      ]
     },
     "execution_count": 82,
     "metadata": {},
     "output_type": "execute_result"
    }
   ],
   "source": [
    "dos_data_bg.shape"
   ]
  },
  {
   "cell_type": "code",
   "execution_count": 83,
   "metadata": {},
   "outputs": [],
   "source": [
    "# for metal\n",
    "peak = 0\n",
    "atom_attr = np.array([0]*nions).tolist()"
   ]
  },
  {
   "cell_type": "code",
   "execution_count": 84,
   "metadata": {},
   "outputs": [],
   "source": [
    "# for semiconductors and insulators\n",
    "atom_bg_sum = np.sum(atom_dos_bg, axis=2) - atom_dos_bg[:,:,0]"
   ]
  },
  {
   "cell_type": "code",
   "execution_count": 85,
   "metadata": {},
   "outputs": [],
   "source": [
    "# if spin off\n",
    "peak = np.sum(dos_data_bg, axis=0)[1]\n",
    "if peak == 0:\n",
    "    atom_attr = np.array([0]*nions).tolist()\n",
    "else:\n",
    "    atom_attr = np.sum(atom_bg_sum, axis=1) / np.sum(dos_data_bg, axis=0)[1]"
   ]
  },
  {
   "cell_type": "code",
   "execution_count": 86,
   "metadata": {},
   "outputs": [],
   "source": [
    "# if spin on\n",
    "from symbol import atom\n",
    "\n",
    "\n",
    "peak_up = np.sum(dos_data_bg, axis=0)[1]\n",
    "peak_down = np.sum(dos_data_bg, axis=0)[2]\n",
    "peak = peak_up + peak_down\n",
    "\n",
    "up = np.array([1,3,5,7,9,11,13,15,17])\n",
    "down = np.array([2,4,6,8,10,12,14,16,18])\n",
    "\n",
    "if peak_up == 0:\n",
    "    up_attr = np.array([0]*nions)\n",
    "else:\n",
    "    up_attr = np.sum(np.sum(atom_dos_bg[:,:,up], axis=2), axis=1)/np.sum(dos_data_bg, axis=0)[1]\n",
    "            \n",
    "if peak_down == 0:\n",
    "    down_attr = np.array([0]*nions)\n",
    "else: \n",
    "    down_attr = np.sum(np.sum(atom_dos_bg[:,:,down], axis=2), axis=1)/np.sum(dos_data_bg, axis=0)[2]\n",
    "\n",
    "atom_attr = up_attr + down_attr\n"
   ]
  },
  {
   "cell_type": "code",
   "execution_count": 87,
   "metadata": {},
   "outputs": [
    {
     "data": {
      "text/plain": [
       "array([2.07800699e-03, 2.07807692e-03, 6.04752156e-01, 7.05680420e-04,\n",
       "       7.05680420e-04, 6.29678322e-04, 6.29671329e-04, 3.94465035e-05,\n",
       "       3.94472028e-05, 2.54045455e-05, 2.54010490e-05, 1.90542308e-05,\n",
       "       1.90538811e-05, 3.85541958e-05, 3.85583916e-05, 2.27503497e-05,\n",
       "       2.27545455e-05, 1.11650350e-03, 1.11608392e-03, 1.16795105e-03,\n",
       "       1.16822727e-03, 5.13916084e-05, 5.13916084e-05, 6.53325175e-02,\n",
       "       6.53356643e-02, 9.20402098e-03, 9.20444056e-03, 9.84510490e-03,\n",
       "       9.84440559e-03, 6.50150350e-02, 6.50153846e-02, 5.81300699e-04,\n",
       "       5.81157343e-04, 1.39436713e-04, 1.39436713e-04, 1.90506993e-04,\n",
       "       1.90468531e-04, 6.07069930e-04, 6.07111888e-04])"
      ]
     },
     "execution_count": 87,
     "metadata": {},
     "output_type": "execute_result"
    }
   ],
   "source": [
    "atom_attr"
   ]
  },
  {
   "cell_type": "code",
   "execution_count": 88,
   "metadata": {},
   "outputs": [
    {
     "data": {
      "text/plain": [
       "<matplotlib.collections.PathCollection at 0x7fbb3878a0d0>"
      ]
     },
     "execution_count": 88,
     "metadata": {},
     "output_type": "execute_result"
    },
    {
     "data": {
      "image/png": "[encoded data removed]",
      "text/plain": [
       "<Figure size 432x288 with 1 Axes>"
      ]
     },
     "metadata": {
      "needs_background": "light"
     },
     "output_type": "display_data"
    }
   ],
   "source": [
    "plt.scatter(range(nions), atom_attr)"
   ]
  },
  {
   "cell_type": "code",
   "execution_count": 92,
   "metadata": {},
   "outputs": [
    {
     "data": {
      "text/plain": [
       "Text(0.5, 1.0, 'qmof-8a95c27')"
      ]
     },
     "execution_count": 92,
     "metadata": {},
     "output_type": "execute_result"
    },
    {
     "data": {
      "image/png": "[encoded data removed]",
      "text/plain": [
       "<Figure size 720x432 with 1 Axes>"
      ]
     },
     "metadata": {
      "needs_background": "light"
     },
     "output_type": "display_data"
    }
   ],
   "source": [
    "energies = dos_data[:,0]\n",
    "atom_dos_sum = np.sum(atom_dos_data, axis=2) - energies\n",
    "\n",
    "atom_idx = 0\n",
    "\n",
    "fig, ax = plt.subplots()\n",
    "fig.set_size_inches(10, 6)\n",
    "ax.plot(\n",
    "    energies[(energies>efermi-1) & (energies<efermi+7)]-efermi,\n",
    "    dos_data[:, 2][(energies>efermi-1) & (energies<efermi+7)], \n",
    "    #gaussian_filter1d(dos_data[:, 1][(energies>efermi-1) & (energies<efermi+7)], sigma=bandgap)\n",
    ")\n",
    "\n",
    "ax.plot(\n",
    "    energies[(energies>efermi-1) & (energies<efermi+7)]-efermi, \n",
    "    atom_dos_sum[atom_idx,:][(energies>efermi-1) & (energies<efermi+7)]  \n",
    ")\n",
    "\n",
    "ax.plot([0,0], [0,np.max(dos_data[:, 1][(energies>efermi-1) & (energies<efermi+7)])], 'r--')\n",
    "ax.plot([bandgap, bandgap], [0,np.max(dos_data[:, 1][(energies>efermi-1) & (energies<efermi+7)])], 'r--')\n",
    "ax.set_xlabel(\"$E-E_{Fermi}\\ /\\ eV$\")\n",
    "ax.set_ylabel(\"Density of states\")\n",
    "ax.set_title(\"%s\" %qmof_id)"
   ]
  },
  {
   "cell_type": "markdown",
   "metadata": {},
   "source": [
    "# read qmofs with peaks in the bandgap"
   ]
  },
  {
   "cell_type": "code",
   "execution_count": 130,
   "metadata": {},
   "outputs": [],
   "source": [
    "with open(\"../files/mofs_with_peaks\") as f:\n",
    "    mofs_peak = [l.split() for l in f.readlines()]"
   ]
  },
  {
   "cell_type": "code",
   "execution_count": 131,
   "metadata": {},
   "outputs": [
    {
     "data": {
      "text/plain": [
       "4357"
      ]
     },
     "execution_count": 131,
     "metadata": {},
     "output_type": "execute_result"
    }
   ],
   "source": [
    "len(mofs_peak)"
   ]
  },
  {
   "cell_type": "code",
   "execution_count": 133,
   "metadata": {},
   "outputs": [],
   "source": [
    "qmof_id_peak = [qmof_df[qmof_df[\"name\"] == q[0]].index.item() for q in mofs_peak]"
   ]
  },
  {
   "cell_type": "code",
   "execution_count": 134,
   "metadata": {},
   "outputs": [
    {
     "data": {
      "text/plain": [
       "4357"
      ]
     },
     "execution_count": 134,
     "metadata": {},
     "output_type": "execute_result"
    }
   ],
   "source": [
    "len(qmof_id_peak)"
   ]
  },
  {
   "cell_type": "code",
   "execution_count": 135,
   "metadata": {},
   "outputs": [
    {
     "name": "stdout",
     "output_type": "stream",
     "text": [
      "yes\n"
     ]
    }
   ],
   "source": [
    "if \"qmof-8a95c27\" not in qmof_id_peak:\n",
    "    print(\"yes\")"
   ]
  },
  {
   "cell_type": "code",
   "execution_count": 17,
   "metadata": {},
   "outputs": [],
   "source": [
    "import shutil"
   ]
  },
  {
   "cell_type": "code",
   "execution_count": 20,
   "metadata": {},
   "outputs": [],
   "source": [
    "for x in qmof_id_peak:\n",
    "    src = os.path.join(\"/run/user/1001/gvfs/smb-share:server=lsmosrv2.epfl.ch,share=xiazhang/dos_plots\", x+\".png\")\n",
    "    dst = os.path.join(\"/run/user/1001/gvfs/smb-share:server=lsmosrv2.epfl.ch,share=xiazhang/dos_plots_peaks\", x+\".png\")\n",
    "    shutil.copyfile(src, dst)"
   ]
  },
  {
   "cell_type": "code",
   "execution_count": null,
   "metadata": {},
   "outputs": [],
   "source": []
  },
  {
   "cell_type": "markdown",
   "metadata": {},
   "source": [
    "# check the label distribution"
   ]
  },
  {
   "cell_type": "code",
   "execution_count": 76,
   "metadata": {},
   "outputs": [],
   "source": [
    "label_data = pd.read_json(\"../files/qmof_update.json\")"
   ]
  },
  {
   "cell_type": "code",
   "execution_count": 78,
   "metadata": {},
   "outputs": [
    {
     "data": {
      "text/plain": [
       "(array([1.1547e+04, 4.0300e+03, 2.3860e+03, 9.7800e+02, 6.8100e+02,\n",
       "        1.8900e+02, 1.9800e+02, 1.3200e+02, 1.2100e+02, 3.0000e+01,\n",
       "        1.5000e+01, 8.0000e+00, 1.2000e+01, 1.0000e+01, 6.0000e+00,\n",
       "        4.0000e+00, 1.1000e+01, 2.0000e+00, 3.0000e+00, 2.0000e+00,\n",
       "        1.0000e+00, 0.0000e+00, 1.0000e+00, 0.0000e+00, 0.0000e+00,\n",
       "        0.0000e+00, 2.0000e+00, 1.0000e+00, 0.0000e+00, 0.0000e+00,\n",
       "        0.0000e+00, 0.0000e+00, 1.0000e+00, 1.0000e+00, 0.0000e+00,\n",
       "        0.0000e+00, 0.0000e+00, 0.0000e+00, 0.0000e+00, 0.0000e+00,\n",
       "        0.0000e+00, 0.0000e+00, 0.0000e+00, 0.0000e+00, 0.0000e+00,\n",
       "        0.0000e+00, 0.0000e+00, 0.0000e+00, 0.0000e+00, 1.0000e+00]),\n",
       " array([  0.        ,   8.93603658,  17.87207316,  26.80810974,\n",
       "         35.74414632,  44.6801829 ,  53.61621948,  62.55225606,\n",
       "         71.48829264,  80.42432922,  89.3603658 ,  98.29640238,\n",
       "        107.23243896, 116.16847554, 125.10451212, 134.0405487 ,\n",
       "        142.97658528, 151.91262186, 160.84865844, 169.78469502,\n",
       "        178.7207316 , 187.65676818, 196.59280476, 205.52884134,\n",
       "        214.46487792, 223.4009145 , 232.33695108, 241.27298766,\n",
       "        250.20902424, 259.14506082, 268.0810974 , 277.01713398,\n",
       "        285.95317056, 294.88920714, 303.82524372, 312.7612803 ,\n",
       "        321.69731688, 330.63335346, 339.56939004, 348.50542662,\n",
       "        357.4414632 , 366.37749978, 375.31353636, 384.24957294,\n",
       "        393.18560952, 402.1216461 , 411.05768268, 419.99371926,\n",
       "        428.92975584, 437.86579242, 446.801829  ]),\n",
       " <BarContainer object of 50 artists>)"
      ]
     },
     "execution_count": 78,
     "metadata": {},
     "output_type": "execute_result"
    },
    {
     "data": {
      "image/png": "[encoded data removed]",
      "text/plain": [
       "<Figure size 432x288 with 1 Axes>"
      ]
     },
     "metadata": {
      "needs_background": "light"
     },
     "output_type": "display_data"
    }
   ],
   "source": [
    "plt.hist(label_data[\"dos_in_bandgap\"], bins=50)"
   ]
  },
  {
   "cell_type": "code",
   "execution_count": null,
   "metadata": {},
   "outputs": [],
   "source": []
  }
 ],
 "metadata": {
  "kernelspec": {
   "display_name": "Python 3.8.12 ('ml')",
   "language": "python",
   "name": "python3"
  },
  "language_info": {
   "codemirror_mode": {
    "name": "ipython",
    "version": 3
   },
   "file_extension": ".py",
   "mimetype": "text/x-python",
   "name": "python",
   "nbconvert_exporter": "python",
   "pygments_lexer": "ipython3",
   "version": "3.8.12"
  },
  "orig_nbformat": 4,
  "vscode": {
   "interpreter": {
    "hash": "8a1315b02a235bf79c68e093ca5453b5ada46ae87871d36c79602fa05a1f3eef"
   }
  }
 },
 "nbformat": 4,
 "nbformat_minor": 2
}
